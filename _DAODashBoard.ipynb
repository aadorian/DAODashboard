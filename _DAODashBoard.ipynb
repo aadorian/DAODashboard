{
  "nbformat": 4,
  "nbformat_minor": 0,
  "metadata": {
    "colab": {
      "name": "#DAODashBoard.ipynb",
      "provenance": [],
      "collapsed_sections": []
    },
    "kernelspec": {
      "name": "python3",
      "display_name": "Python 3"
    },
    "language_info": {
      "name": "python"
    }
  },
  "cells": [
    {
      "cell_type": "markdown",
      "source": [
        "Video"
      ],
      "metadata": {
        "id": "E0UzdlVJzy8-"
      }
    },
    {
      "cell_type": "code",
      "source": [
        "#Github API TOKEN\n",
        "api_token = ''  #@param {type: \"string\"}"
      ],
      "metadata": {
        "id": "d-VCrWZuhi2A"
      },
      "execution_count": 80,
      "outputs": []
    },
    {
      "cell_type": "markdown",
      "source": [
        "# DAODashBoard"
      ],
      "metadata": {
        "id": "MTNB-7QM1TG-"
      }
    },
    {
      "cell_type": "markdown",
      "source": [
        "**The Problem:**  There are few applications that allow to explore blockchain data collections specifically DAOs in a simple and efficient way.\n",
        "\n",
        "**The Solution** Use data science tools that allow different actors to explore a DAO and make informed decisions.\n",
        "\n",
        "*Use Case IPFS*\n",
        "\tExport to IPFS the result CVS files/graphs\n",
        "*Use Case GraphQL*\n",
        "\tUse GraphQL to explore DAO activities @ github using Github GraphQL API\n",
        "\n",
        "[Presentation](https://docs.google.com/presentation/d/1iJlb4ppdDnlAFhEmjU7Vsu6B0LvxC6Ow9oDl96lCyB0/edit?usp=sharing)"
      ],
      "metadata": {
        "id": "JvBGb_3wn2zs"
      }
    },
    {
      "cell_type": "markdown",
      "source": [
        "# DAO\n",
        "DAOs are an effective and safe way to work with like-minded folks around the globe."
      ],
      "metadata": {
        "id": "mTJ14LvyjyBp"
      }
    },
    {
      "cell_type": "code",
      "source": [
        "from IPython.display import HTML\n",
        "#@title Video\n",
        "#@markdown <p align=\"left\"><img src=\"https://bafybeierzl3pccswpdlzzvgirqa5fujkxja3xoaplgnt7ley2nadbghjsi.ipfs.dweb.link/DAOHack.png\" width: 100% width= '80' alt=\"DAO Hacks\"</p>\n",
        "#0x87430F10FAD9b9Cb84056A37F836d8a804204303\n",
        "\n",
        "HTML('<iframe width=\"560\" height=\"315\" src=\"https://www.youtube.com/embed/ByD70FKCdsI\" frameborder=\"0\" title=\"YouTube video player\" frameborder=\"0\" allow=\"accelerometer; autoplay; clipboard-write; encrypted-media; gyroscope; picture-in-picture\" allowfullscreen></iframe>')"
      ],
      "metadata": {
        "id": "YqKN7JUszTjT",
        "colab": {
          "base_uri": "https://localhost:8080/",
          "height": 336
        },
        "outputId": "3686b839-0211-4086-dd54-227628943121"
      },
      "execution_count": 98,
      "outputs": [
        {
          "output_type": "execute_result",
          "data": {
            "text/plain": [
              "<IPython.core.display.HTML object>"
            ],
            "text/html": [
              "<iframe width=\"560\" height=\"315\" src=\"https://www.youtube.com/embed/ByD70FKCdsI\" frameborder=\"0\" title=\"YouTube video player\" frameborder=\"0\" allow=\"accelerometer; autoplay; clipboard-write; encrypted-media; gyroscope; picture-in-picture\" allowfullscreen></iframe>"
            ]
          },
          "metadata": {},
          "execution_count": 98
        }
      ]
    },
    {
      "cell_type": "markdown",
      "source": [
        "# Use Case \n",
        "https://www.lexdao.coop"
      ],
      "metadata": {
        "id": "--Q-bmXTj82o"
      }
    },
    {
      "cell_type": "code",
      "source": [
        "from google.colab import files\n",
        "import pandas as pd\n",
        "import io\n",
        "data_to_load = files.upload()\n"
      ],
      "metadata": {
        "colab": {
          "resources": {
            "http://localhost:8080/nbextensions/google.colab/files.js": {
              "data": "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",
              "ok": true,
              "headers": [
                [
                  "content-type",
                  "application/javascript"
                ]
              ],
              "status": 200,
              "status_text": ""
            }
          },
          "base_uri": "https://localhost:8080/",
          "height": 73
        },
        "id": "IGNEwHDzOyRj",
        "outputId": "1675efd5-a34e-45dd-b15d-b205c8d1635d"
      },
      "execution_count": 81,
      "outputs": [
        {
          "output_type": "display_data",
          "data": {
            "text/plain": [
              "<IPython.core.display.HTML object>"
            ],
            "text/html": [
              "\n",
              "     <input type=\"file\" id=\"files-de50ffb5-b5a6-4e08-88d2-603c38726f3a\" name=\"files[]\" multiple disabled\n",
              "        style=\"border:none\" />\n",
              "     <output id=\"result-de50ffb5-b5a6-4e08-88d2-603c38726f3a\">\n",
              "      Upload widget is only available when the cell has been executed in the\n",
              "      current browser session. Please rerun this cell to enable.\n",
              "      </output>\n",
              "      <script src=\"/nbextensions/google.colab/files.js\"></script> "
            ]
          },
          "metadata": {}
        },
        {
          "output_type": "stream",
          "name": "stdout",
          "text": [
            "Saving file.csv to file.csv\n"
          ]
        }
      ]
    },
    {
      "cell_type": "code",
      "source": [
        "df = pd.read_csv(io.BytesIO(data_to_load['file.csv']))"
      ],
      "metadata": {
        "id": "u3IW9D5eVgK_"
      },
      "execution_count": 82,
      "outputs": []
    },
    {
      "cell_type": "code",
      "source": [
        "df.describe()"
      ],
      "metadata": {
        "colab": {
          "base_uri": "https://localhost:8080/",
          "height": 390
        },
        "id": "Sc0nk61rPBMZ",
        "outputId": "13298fa2-1eb0-4eb8-ac21-b30425d681cb"
      },
      "execution_count": 83,
      "outputs": [
        {
          "output_type": "execute_result",
          "data": {
            "text/plain": [
              "       cancelledAt     createdAt  gracePeriodEnds  lootRequested  \\\n",
              "count          0.0  2.200000e+01             22.0           22.0   \n",
              "mean           NaN  1.632450e+09              0.0            0.0   \n",
              "std            NaN  8.239857e+06              0.0            0.0   \n",
              "min            NaN  1.613191e+09              0.0            0.0   \n",
              "25%            NaN  1.635216e+09              0.0            0.0   \n",
              "50%            NaN  1.635503e+09              0.0            0.0   \n",
              "75%            NaN  1.637050e+09              0.0            0.0   \n",
              "max            NaN  1.638079e+09              0.0            0.0   \n",
              "\n",
              "       minionExecuteActionTx  noShares  noVotes  paymentRequested  \\\n",
              "count                    0.0      22.0     22.0              22.0   \n",
              "mean                     NaN       0.0      0.0               0.0   \n",
              "std                      NaN       0.0      0.0               0.0   \n",
              "min                      NaN       0.0      0.0               0.0   \n",
              "25%                      NaN       0.0      0.0               0.0   \n",
              "50%                      NaN       0.0      0.0               0.0   \n",
              "75%                      NaN       0.0      0.0               0.0   \n",
              "max                      NaN       0.0      0.0               0.0   \n",
              "\n",
              "       paymentTokenDecimals  paymentTokenSymbol  ...  startingPeriod  \\\n",
              "count                   0.0                 0.0  ...            22.0   \n",
              "mean                    NaN                 NaN  ...             0.0   \n",
              "std                     NaN                 NaN  ...             0.0   \n",
              "min                     NaN                 NaN  ...             0.0   \n",
              "25%                     NaN                 NaN  ...             0.0   \n",
              "50%                     NaN                 NaN  ...             0.0   \n",
              "75%                     NaN                 NaN  ...             0.0   \n",
              "max                     NaN                 NaN  ...             0.0   \n",
              "\n",
              "       tributeTokenDecimals  votingPeriodStarts  votingPeriodEnds  yesShares  \\\n",
              "count                  12.0                22.0              22.0       22.0   \n",
              "mean                   18.0                 0.0               0.0        0.0   \n",
              "std                     0.0                 0.0               0.0        0.0   \n",
              "min                    18.0                 0.0               0.0        0.0   \n",
              "25%                    18.0                 0.0               0.0        0.0   \n",
              "50%                    18.0                 0.0               0.0        0.0   \n",
              "75%                    18.0                 0.0               0.0        0.0   \n",
              "max                    18.0                 0.0               0.0        0.0   \n",
              "\n",
              "       yesVotes  molochVersion  minionAddress  actions  escrow  \n",
              "count      22.0           22.0            0.0      0.0     0.0  \n",
              "mean        0.0            2.0            NaN      NaN     NaN  \n",
              "std         0.0            0.0            NaN      NaN     NaN  \n",
              "min         0.0            2.0            NaN      NaN     NaN  \n",
              "25%         0.0            2.0            NaN      NaN     NaN  \n",
              "50%         0.0            2.0            NaN      NaN     NaN  \n",
              "75%         0.0            2.0            NaN      NaN     NaN  \n",
              "max         0.0            2.0            NaN      NaN     NaN  \n",
              "\n",
              "[8 rows x 25 columns]"
            ],
            "text/html": [
              "\n",
              "  <div id=\"df-2d4504cf-7cee-4a16-841b-4742f043ac9d\">\n",
              "    <div class=\"colab-df-container\">\n",
              "      <div>\n",
              "<style scoped>\n",
              "    .dataframe tbody tr th:only-of-type {\n",
              "        vertical-align: middle;\n",
              "    }\n",
              "\n",
              "    .dataframe tbody tr th {\n",
              "        vertical-align: top;\n",
              "    }\n",
              "\n",
              "    .dataframe thead th {\n",
              "        text-align: right;\n",
              "    }\n",
              "</style>\n",
              "<table border=\"1\" class=\"dataframe\">\n",
              "  <thead>\n",
              "    <tr style=\"text-align: right;\">\n",
              "      <th></th>\n",
              "      <th>cancelledAt</th>\n",
              "      <th>createdAt</th>\n",
              "      <th>gracePeriodEnds</th>\n",
              "      <th>lootRequested</th>\n",
              "      <th>minionExecuteActionTx</th>\n",
              "      <th>noShares</th>\n",
              "      <th>noVotes</th>\n",
              "      <th>paymentRequested</th>\n",
              "      <th>paymentTokenDecimals</th>\n",
              "      <th>paymentTokenSymbol</th>\n",
              "      <th>...</th>\n",
              "      <th>startingPeriod</th>\n",
              "      <th>tributeTokenDecimals</th>\n",
              "      <th>votingPeriodStarts</th>\n",
              "      <th>votingPeriodEnds</th>\n",
              "      <th>yesShares</th>\n",
              "      <th>yesVotes</th>\n",
              "      <th>molochVersion</th>\n",
              "      <th>minionAddress</th>\n",
              "      <th>actions</th>\n",
              "      <th>escrow</th>\n",
              "    </tr>\n",
              "  </thead>\n",
              "  <tbody>\n",
              "    <tr>\n",
              "      <th>count</th>\n",
              "      <td>0.0</td>\n",
              "      <td>2.200000e+01</td>\n",
              "      <td>22.0</td>\n",
              "      <td>22.0</td>\n",
              "      <td>0.0</td>\n",
              "      <td>22.0</td>\n",
              "      <td>22.0</td>\n",
              "      <td>22.0</td>\n",
              "      <td>0.0</td>\n",
              "      <td>0.0</td>\n",
              "      <td>...</td>\n",
              "      <td>22.0</td>\n",
              "      <td>12.0</td>\n",
              "      <td>22.0</td>\n",
              "      <td>22.0</td>\n",
              "      <td>22.0</td>\n",
              "      <td>22.0</td>\n",
              "      <td>22.0</td>\n",
              "      <td>0.0</td>\n",
              "      <td>0.0</td>\n",
              "      <td>0.0</td>\n",
              "    </tr>\n",
              "    <tr>\n",
              "      <th>mean</th>\n",
              "      <td>NaN</td>\n",
              "      <td>1.632450e+09</td>\n",
              "      <td>0.0</td>\n",
              "      <td>0.0</td>\n",
              "      <td>NaN</td>\n",
              "      <td>0.0</td>\n",
              "      <td>0.0</td>\n",
              "      <td>0.0</td>\n",
              "      <td>NaN</td>\n",
              "      <td>NaN</td>\n",
              "      <td>...</td>\n",
              "      <td>0.0</td>\n",
              "      <td>18.0</td>\n",
              "      <td>0.0</td>\n",
              "      <td>0.0</td>\n",
              "      <td>0.0</td>\n",
              "      <td>0.0</td>\n",
              "      <td>2.0</td>\n",
              "      <td>NaN</td>\n",
              "      <td>NaN</td>\n",
              "      <td>NaN</td>\n",
              "    </tr>\n",
              "    <tr>\n",
              "      <th>std</th>\n",
              "      <td>NaN</td>\n",
              "      <td>8.239857e+06</td>\n",
              "      <td>0.0</td>\n",
              "      <td>0.0</td>\n",
              "      <td>NaN</td>\n",
              "      <td>0.0</td>\n",
              "      <td>0.0</td>\n",
              "      <td>0.0</td>\n",
              "      <td>NaN</td>\n",
              "      <td>NaN</td>\n",
              "      <td>...</td>\n",
              "      <td>0.0</td>\n",
              "      <td>0.0</td>\n",
              "      <td>0.0</td>\n",
              "      <td>0.0</td>\n",
              "      <td>0.0</td>\n",
              "      <td>0.0</td>\n",
              "      <td>0.0</td>\n",
              "      <td>NaN</td>\n",
              "      <td>NaN</td>\n",
              "      <td>NaN</td>\n",
              "    </tr>\n",
              "    <tr>\n",
              "      <th>min</th>\n",
              "      <td>NaN</td>\n",
              "      <td>1.613191e+09</td>\n",
              "      <td>0.0</td>\n",
              "      <td>0.0</td>\n",
              "      <td>NaN</td>\n",
              "      <td>0.0</td>\n",
              "      <td>0.0</td>\n",
              "      <td>0.0</td>\n",
              "      <td>NaN</td>\n",
              "      <td>NaN</td>\n",
              "      <td>...</td>\n",
              "      <td>0.0</td>\n",
              "      <td>18.0</td>\n",
              "      <td>0.0</td>\n",
              "      <td>0.0</td>\n",
              "      <td>0.0</td>\n",
              "      <td>0.0</td>\n",
              "      <td>2.0</td>\n",
              "      <td>NaN</td>\n",
              "      <td>NaN</td>\n",
              "      <td>NaN</td>\n",
              "    </tr>\n",
              "    <tr>\n",
              "      <th>25%</th>\n",
              "      <td>NaN</td>\n",
              "      <td>1.635216e+09</td>\n",
              "      <td>0.0</td>\n",
              "      <td>0.0</td>\n",
              "      <td>NaN</td>\n",
              "      <td>0.0</td>\n",
              "      <td>0.0</td>\n",
              "      <td>0.0</td>\n",
              "      <td>NaN</td>\n",
              "      <td>NaN</td>\n",
              "      <td>...</td>\n",
              "      <td>0.0</td>\n",
              "      <td>18.0</td>\n",
              "      <td>0.0</td>\n",
              "      <td>0.0</td>\n",
              "      <td>0.0</td>\n",
              "      <td>0.0</td>\n",
              "      <td>2.0</td>\n",
              "      <td>NaN</td>\n",
              "      <td>NaN</td>\n",
              "      <td>NaN</td>\n",
              "    </tr>\n",
              "    <tr>\n",
              "      <th>50%</th>\n",
              "      <td>NaN</td>\n",
              "      <td>1.635503e+09</td>\n",
              "      <td>0.0</td>\n",
              "      <td>0.0</td>\n",
              "      <td>NaN</td>\n",
              "      <td>0.0</td>\n",
              "      <td>0.0</td>\n",
              "      <td>0.0</td>\n",
              "      <td>NaN</td>\n",
              "      <td>NaN</td>\n",
              "      <td>...</td>\n",
              "      <td>0.0</td>\n",
              "      <td>18.0</td>\n",
              "      <td>0.0</td>\n",
              "      <td>0.0</td>\n",
              "      <td>0.0</td>\n",
              "      <td>0.0</td>\n",
              "      <td>2.0</td>\n",
              "      <td>NaN</td>\n",
              "      <td>NaN</td>\n",
              "      <td>NaN</td>\n",
              "    </tr>\n",
              "    <tr>\n",
              "      <th>75%</th>\n",
              "      <td>NaN</td>\n",
              "      <td>1.637050e+09</td>\n",
              "      <td>0.0</td>\n",
              "      <td>0.0</td>\n",
              "      <td>NaN</td>\n",
              "      <td>0.0</td>\n",
              "      <td>0.0</td>\n",
              "      <td>0.0</td>\n",
              "      <td>NaN</td>\n",
              "      <td>NaN</td>\n",
              "      <td>...</td>\n",
              "      <td>0.0</td>\n",
              "      <td>18.0</td>\n",
              "      <td>0.0</td>\n",
              "      <td>0.0</td>\n",
              "      <td>0.0</td>\n",
              "      <td>0.0</td>\n",
              "      <td>2.0</td>\n",
              "      <td>NaN</td>\n",
              "      <td>NaN</td>\n",
              "      <td>NaN</td>\n",
              "    </tr>\n",
              "    <tr>\n",
              "      <th>max</th>\n",
              "      <td>NaN</td>\n",
              "      <td>1.638079e+09</td>\n",
              "      <td>0.0</td>\n",
              "      <td>0.0</td>\n",
              "      <td>NaN</td>\n",
              "      <td>0.0</td>\n",
              "      <td>0.0</td>\n",
              "      <td>0.0</td>\n",
              "      <td>NaN</td>\n",
              "      <td>NaN</td>\n",
              "      <td>...</td>\n",
              "      <td>0.0</td>\n",
              "      <td>18.0</td>\n",
              "      <td>0.0</td>\n",
              "      <td>0.0</td>\n",
              "      <td>0.0</td>\n",
              "      <td>0.0</td>\n",
              "      <td>2.0</td>\n",
              "      <td>NaN</td>\n",
              "      <td>NaN</td>\n",
              "      <td>NaN</td>\n",
              "    </tr>\n",
              "  </tbody>\n",
              "</table>\n",
              "<p>8 rows × 25 columns</p>\n",
              "</div>\n",
              "      <button class=\"colab-df-convert\" onclick=\"convertToInteractive('df-2d4504cf-7cee-4a16-841b-4742f043ac9d')\"\n",
              "              title=\"Convert this dataframe to an interactive table.\"\n",
              "              style=\"display:none;\">\n",
              "        \n",
              "  <svg xmlns=\"http://www.w3.org/2000/svg\" height=\"24px\"viewBox=\"0 0 24 24\"\n",
              "       width=\"24px\">\n",
              "    <path d=\"M0 0h24v24H0V0z\" fill=\"none\"/>\n",
              "    <path d=\"M18.56 5.44l.94 2.06.94-2.06 2.06-.94-2.06-.94-.94-2.06-.94 2.06-2.06.94zm-11 1L8.5 8.5l.94-2.06 2.06-.94-2.06-.94L8.5 2.5l-.94 2.06-2.06.94zm10 10l.94 2.06.94-2.06 2.06-.94-2.06-.94-.94-2.06-.94 2.06-2.06.94z\"/><path d=\"M17.41 7.96l-1.37-1.37c-.4-.4-.92-.59-1.43-.59-.52 0-1.04.2-1.43.59L10.3 9.45l-7.72 7.72c-.78.78-.78 2.05 0 2.83L4 21.41c.39.39.9.59 1.41.59.51 0 1.02-.2 1.41-.59l7.78-7.78 2.81-2.81c.8-.78.8-2.07 0-2.86zM5.41 20L4 18.59l7.72-7.72 1.47 1.35L5.41 20z\"/>\n",
              "  </svg>\n",
              "      </button>\n",
              "      \n",
              "  <style>\n",
              "    .colab-df-container {\n",
              "      display:flex;\n",
              "      flex-wrap:wrap;\n",
              "      gap: 12px;\n",
              "    }\n",
              "\n",
              "    .colab-df-convert {\n",
              "      background-color: #E8F0FE;\n",
              "      border: none;\n",
              "      border-radius: 50%;\n",
              "      cursor: pointer;\n",
              "      display: none;\n",
              "      fill: #1967D2;\n",
              "      height: 32px;\n",
              "      padding: 0 0 0 0;\n",
              "      width: 32px;\n",
              "    }\n",
              "\n",
              "    .colab-df-convert:hover {\n",
              "      background-color: #E2EBFA;\n",
              "      box-shadow: 0px 1px 2px rgba(60, 64, 67, 0.3), 0px 1px 3px 1px rgba(60, 64, 67, 0.15);\n",
              "      fill: #174EA6;\n",
              "    }\n",
              "\n",
              "    [theme=dark] .colab-df-convert {\n",
              "      background-color: #3B4455;\n",
              "      fill: #D2E3FC;\n",
              "    }\n",
              "\n",
              "    [theme=dark] .colab-df-convert:hover {\n",
              "      background-color: #434B5C;\n",
              "      box-shadow: 0px 1px 3px 1px rgba(0, 0, 0, 0.15);\n",
              "      filter: drop-shadow(0px 1px 2px rgba(0, 0, 0, 0.3));\n",
              "      fill: #FFFFFF;\n",
              "    }\n",
              "  </style>\n",
              "\n",
              "      <script>\n",
              "        const buttonEl =\n",
              "          document.querySelector('#df-2d4504cf-7cee-4a16-841b-4742f043ac9d button.colab-df-convert');\n",
              "        buttonEl.style.display =\n",
              "          google.colab.kernel.accessAllowed ? 'block' : 'none';\n",
              "\n",
              "        async function convertToInteractive(key) {\n",
              "          const element = document.querySelector('#df-2d4504cf-7cee-4a16-841b-4742f043ac9d');\n",
              "          const dataTable =\n",
              "            await google.colab.kernel.invokeFunction('convertToInteractive',\n",
              "                                                     [key], {});\n",
              "          if (!dataTable) return;\n",
              "\n",
              "          const docLinkHtml = 'Like what you see? Visit the ' +\n",
              "            '<a target=\"_blank\" href=https://colab.research.google.com/notebooks/data_table.ipynb>data table notebook</a>'\n",
              "            + ' to learn more about interactive tables.';\n",
              "          element.innerHTML = '';\n",
              "          dataTable['output_type'] = 'display_data';\n",
              "          await google.colab.output.renderOutput(dataTable, element);\n",
              "          const docLink = document.createElement('div');\n",
              "          docLink.innerHTML = docLinkHtml;\n",
              "          element.appendChild(docLink);\n",
              "        }\n",
              "      </script>\n",
              "    </div>\n",
              "  </div>\n",
              "  "
            ]
          },
          "metadata": {},
          "execution_count": 83
        }
      ]
    },
    {
      "cell_type": "code",
      "source": [
        "df.head()"
      ],
      "metadata": {
        "colab": {
          "base_uri": "https://localhost:8080/",
          "height": 450
        },
        "id": "O80rozaEPsaF",
        "outputId": "55534446-3b5e-49b0-c17b-34eb44815811"
      },
      "execution_count": 84,
      "outputs": [
        {
          "output_type": "execute_result",
          "data": {
            "text/plain": [
              "   aborted                                   applicant  cancelled  \\\n",
              "0    False  0x2352af873619fe65967568884e460574a0d8dc67      False   \n",
              "1    False  0x2352af873619fe65967568884e460574a0d8dc67      False   \n",
              "2    False  0xc7302570d2d3baf6d278f2f28802f4241a23ca0c      False   \n",
              "3    False  0xd0f3938a7a8780291dfece16bf1c9bb091203edc      False   \n",
              "4    False  0x0000000000000000000000000000000000000000      False   \n",
              "\n",
              "   cancelledAt   createdAt                                   createdBy  \\\n",
              "0          NaN  1638079350  0x2352af873619fe65967568884e460574a0d8dc67   \n",
              "1          NaN  1638079180  0x2352af873619fe65967568884e460574a0d8dc67   \n",
              "2          NaN  1637435300  0xc7302570d2d3baf6d278f2f28802f4241a23ca0c   \n",
              "3          NaN  1637384025  0xd0f3938a7a8780291dfece16bf1c9bb091203edc   \n",
              "4          NaN  1637248310  0x55302267b8183b07d90486069db7337fd185dae7   \n",
              "\n",
              "   didPass  executed  gracePeriodEnds  guildkick  ...  molochVersion  \\\n",
              "0    False     False                0      False  ...              2   \n",
              "1    False     False                0      False  ...              2   \n",
              "2    False     False                0      False  ...              2   \n",
              "3    False     False                0      False  ...              2   \n",
              "4    False     False                0      False  ...              2   \n",
              "\n",
              "   minionAddress uberHausMinionExecuted  actions  escrow       status  \\\n",
              "0            NaN                  False      NaN     NaN  Unsponsored   \n",
              "1            NaN                  False      NaN     NaN  Unsponsored   \n",
              "2            NaN                  False      NaN     NaN  Unsponsored   \n",
              "3            NaN                  False      NaN     NaN  Unsponsored   \n",
              "4            NaN                  False      NaN     NaN  Unsponsored   \n",
              "\n",
              "                            title                     description      link  \\\n",
              "0  Request to join Foundation DAO  Request to join Foundation DAO       NaN   \n",
              "1          Request to be a member          Request to be a member       NaN   \n",
              "2             proposal title test                             NaN       NaN   \n",
              "3       Request Shares For Tokens                     WXDAI  HAUS       NaN   \n",
              "4                             psp                             NaN  paras.id   \n",
              "\n",
              "               proposalType  \n",
              "0           Member Proposal  \n",
              "1           Member Proposal  \n",
              "2          Funding Proposal  \n",
              "3           Member Proposal  \n",
              "4  Whitelist Token Proposal  \n",
              "\n",
              "[5 rows x 52 columns]"
            ],
            "text/html": [
              "\n",
              "  <div id=\"df-12511ecb-023a-4e57-b566-ccc2db6b8bc4\">\n",
              "    <div class=\"colab-df-container\">\n",
              "      <div>\n",
              "<style scoped>\n",
              "    .dataframe tbody tr th:only-of-type {\n",
              "        vertical-align: middle;\n",
              "    }\n",
              "\n",
              "    .dataframe tbody tr th {\n",
              "        vertical-align: top;\n",
              "    }\n",
              "\n",
              "    .dataframe thead th {\n",
              "        text-align: right;\n",
              "    }\n",
              "</style>\n",
              "<table border=\"1\" class=\"dataframe\">\n",
              "  <thead>\n",
              "    <tr style=\"text-align: right;\">\n",
              "      <th></th>\n",
              "      <th>aborted</th>\n",
              "      <th>applicant</th>\n",
              "      <th>cancelled</th>\n",
              "      <th>cancelledAt</th>\n",
              "      <th>createdAt</th>\n",
              "      <th>createdBy</th>\n",
              "      <th>didPass</th>\n",
              "      <th>executed</th>\n",
              "      <th>gracePeriodEnds</th>\n",
              "      <th>guildkick</th>\n",
              "      <th>...</th>\n",
              "      <th>molochVersion</th>\n",
              "      <th>minionAddress</th>\n",
              "      <th>uberHausMinionExecuted</th>\n",
              "      <th>actions</th>\n",
              "      <th>escrow</th>\n",
              "      <th>status</th>\n",
              "      <th>title</th>\n",
              "      <th>description</th>\n",
              "      <th>link</th>\n",
              "      <th>proposalType</th>\n",
              "    </tr>\n",
              "  </thead>\n",
              "  <tbody>\n",
              "    <tr>\n",
              "      <th>0</th>\n",
              "      <td>False</td>\n",
              "      <td>0x2352af873619fe65967568884e460574a0d8dc67</td>\n",
              "      <td>False</td>\n",
              "      <td>NaN</td>\n",
              "      <td>1638079350</td>\n",
              "      <td>0x2352af873619fe65967568884e460574a0d8dc67</td>\n",
              "      <td>False</td>\n",
              "      <td>False</td>\n",
              "      <td>0</td>\n",
              "      <td>False</td>\n",
              "      <td>...</td>\n",
              "      <td>2</td>\n",
              "      <td>NaN</td>\n",
              "      <td>False</td>\n",
              "      <td>NaN</td>\n",
              "      <td>NaN</td>\n",
              "      <td>Unsponsored</td>\n",
              "      <td>Request to join Foundation DAO</td>\n",
              "      <td>Request to join Foundation DAO</td>\n",
              "      <td>NaN</td>\n",
              "      <td>Member Proposal</td>\n",
              "    </tr>\n",
              "    <tr>\n",
              "      <th>1</th>\n",
              "      <td>False</td>\n",
              "      <td>0x2352af873619fe65967568884e460574a0d8dc67</td>\n",
              "      <td>False</td>\n",
              "      <td>NaN</td>\n",
              "      <td>1638079180</td>\n",
              "      <td>0x2352af873619fe65967568884e460574a0d8dc67</td>\n",
              "      <td>False</td>\n",
              "      <td>False</td>\n",
              "      <td>0</td>\n",
              "      <td>False</td>\n",
              "      <td>...</td>\n",
              "      <td>2</td>\n",
              "      <td>NaN</td>\n",
              "      <td>False</td>\n",
              "      <td>NaN</td>\n",
              "      <td>NaN</td>\n",
              "      <td>Unsponsored</td>\n",
              "      <td>Request to be a member</td>\n",
              "      <td>Request to be a member</td>\n",
              "      <td>NaN</td>\n",
              "      <td>Member Proposal</td>\n",
              "    </tr>\n",
              "    <tr>\n",
              "      <th>2</th>\n",
              "      <td>False</td>\n",
              "      <td>0xc7302570d2d3baf6d278f2f28802f4241a23ca0c</td>\n",
              "      <td>False</td>\n",
              "      <td>NaN</td>\n",
              "      <td>1637435300</td>\n",
              "      <td>0xc7302570d2d3baf6d278f2f28802f4241a23ca0c</td>\n",
              "      <td>False</td>\n",
              "      <td>False</td>\n",
              "      <td>0</td>\n",
              "      <td>False</td>\n",
              "      <td>...</td>\n",
              "      <td>2</td>\n",
              "      <td>NaN</td>\n",
              "      <td>False</td>\n",
              "      <td>NaN</td>\n",
              "      <td>NaN</td>\n",
              "      <td>Unsponsored</td>\n",
              "      <td>proposal title test</td>\n",
              "      <td>NaN</td>\n",
              "      <td>NaN</td>\n",
              "      <td>Funding Proposal</td>\n",
              "    </tr>\n",
              "    <tr>\n",
              "      <th>3</th>\n",
              "      <td>False</td>\n",
              "      <td>0xd0f3938a7a8780291dfece16bf1c9bb091203edc</td>\n",
              "      <td>False</td>\n",
              "      <td>NaN</td>\n",
              "      <td>1637384025</td>\n",
              "      <td>0xd0f3938a7a8780291dfece16bf1c9bb091203edc</td>\n",
              "      <td>False</td>\n",
              "      <td>False</td>\n",
              "      <td>0</td>\n",
              "      <td>False</td>\n",
              "      <td>...</td>\n",
              "      <td>2</td>\n",
              "      <td>NaN</td>\n",
              "      <td>False</td>\n",
              "      <td>NaN</td>\n",
              "      <td>NaN</td>\n",
              "      <td>Unsponsored</td>\n",
              "      <td>Request Shares For Tokens</td>\n",
              "      <td>WXDAI  HAUS</td>\n",
              "      <td>NaN</td>\n",
              "      <td>Member Proposal</td>\n",
              "    </tr>\n",
              "    <tr>\n",
              "      <th>4</th>\n",
              "      <td>False</td>\n",
              "      <td>0x0000000000000000000000000000000000000000</td>\n",
              "      <td>False</td>\n",
              "      <td>NaN</td>\n",
              "      <td>1637248310</td>\n",
              "      <td>0x55302267b8183b07d90486069db7337fd185dae7</td>\n",
              "      <td>False</td>\n",
              "      <td>False</td>\n",
              "      <td>0</td>\n",
              "      <td>False</td>\n",
              "      <td>...</td>\n",
              "      <td>2</td>\n",
              "      <td>NaN</td>\n",
              "      <td>False</td>\n",
              "      <td>NaN</td>\n",
              "      <td>NaN</td>\n",
              "      <td>Unsponsored</td>\n",
              "      <td>psp</td>\n",
              "      <td>NaN</td>\n",
              "      <td>paras.id</td>\n",
              "      <td>Whitelist Token Proposal</td>\n",
              "    </tr>\n",
              "  </tbody>\n",
              "</table>\n",
              "<p>5 rows × 52 columns</p>\n",
              "</div>\n",
              "      <button class=\"colab-df-convert\" onclick=\"convertToInteractive('df-12511ecb-023a-4e57-b566-ccc2db6b8bc4')\"\n",
              "              title=\"Convert this dataframe to an interactive table.\"\n",
              "              style=\"display:none;\">\n",
              "        \n",
              "  <svg xmlns=\"http://www.w3.org/2000/svg\" height=\"24px\"viewBox=\"0 0 24 24\"\n",
              "       width=\"24px\">\n",
              "    <path d=\"M0 0h24v24H0V0z\" fill=\"none\"/>\n",
              "    <path d=\"M18.56 5.44l.94 2.06.94-2.06 2.06-.94-2.06-.94-.94-2.06-.94 2.06-2.06.94zm-11 1L8.5 8.5l.94-2.06 2.06-.94-2.06-.94L8.5 2.5l-.94 2.06-2.06.94zm10 10l.94 2.06.94-2.06 2.06-.94-2.06-.94-.94-2.06-.94 2.06-2.06.94z\"/><path d=\"M17.41 7.96l-1.37-1.37c-.4-.4-.92-.59-1.43-.59-.52 0-1.04.2-1.43.59L10.3 9.45l-7.72 7.72c-.78.78-.78 2.05 0 2.83L4 21.41c.39.39.9.59 1.41.59.51 0 1.02-.2 1.41-.59l7.78-7.78 2.81-2.81c.8-.78.8-2.07 0-2.86zM5.41 20L4 18.59l7.72-7.72 1.47 1.35L5.41 20z\"/>\n",
              "  </svg>\n",
              "      </button>\n",
              "      \n",
              "  <style>\n",
              "    .colab-df-container {\n",
              "      display:flex;\n",
              "      flex-wrap:wrap;\n",
              "      gap: 12px;\n",
              "    }\n",
              "\n",
              "    .colab-df-convert {\n",
              "      background-color: #E8F0FE;\n",
              "      border: none;\n",
              "      border-radius: 50%;\n",
              "      cursor: pointer;\n",
              "      display: none;\n",
              "      fill: #1967D2;\n",
              "      height: 32px;\n",
              "      padding: 0 0 0 0;\n",
              "      width: 32px;\n",
              "    }\n",
              "\n",
              "    .colab-df-convert:hover {\n",
              "      background-color: #E2EBFA;\n",
              "      box-shadow: 0px 1px 2px rgba(60, 64, 67, 0.3), 0px 1px 3px 1px rgba(60, 64, 67, 0.15);\n",
              "      fill: #174EA6;\n",
              "    }\n",
              "\n",
              "    [theme=dark] .colab-df-convert {\n",
              "      background-color: #3B4455;\n",
              "      fill: #D2E3FC;\n",
              "    }\n",
              "\n",
              "    [theme=dark] .colab-df-convert:hover {\n",
              "      background-color: #434B5C;\n",
              "      box-shadow: 0px 1px 3px 1px rgba(0, 0, 0, 0.15);\n",
              "      filter: drop-shadow(0px 1px 2px rgba(0, 0, 0, 0.3));\n",
              "      fill: #FFFFFF;\n",
              "    }\n",
              "  </style>\n",
              "\n",
              "      <script>\n",
              "        const buttonEl =\n",
              "          document.querySelector('#df-12511ecb-023a-4e57-b566-ccc2db6b8bc4 button.colab-df-convert');\n",
              "        buttonEl.style.display =\n",
              "          google.colab.kernel.accessAllowed ? 'block' : 'none';\n",
              "\n",
              "        async function convertToInteractive(key) {\n",
              "          const element = document.querySelector('#df-12511ecb-023a-4e57-b566-ccc2db6b8bc4');\n",
              "          const dataTable =\n",
              "            await google.colab.kernel.invokeFunction('convertToInteractive',\n",
              "                                                     [key], {});\n",
              "          if (!dataTable) return;\n",
              "\n",
              "          const docLinkHtml = 'Like what you see? Visit the ' +\n",
              "            '<a target=\"_blank\" href=https://colab.research.google.com/notebooks/data_table.ipynb>data table notebook</a>'\n",
              "            + ' to learn more about interactive tables.';\n",
              "          element.innerHTML = '';\n",
              "          dataTable['output_type'] = 'display_data';\n",
              "          await google.colab.output.renderOutput(dataTable, element);\n",
              "          const docLink = document.createElement('div');\n",
              "          docLink.innerHTML = docLinkHtml;\n",
              "          element.appendChild(docLink);\n",
              "        }\n",
              "      </script>\n",
              "    </div>\n",
              "  </div>\n",
              "  "
            ]
          },
          "metadata": {},
          "execution_count": 84
        }
      ]
    },
    {
      "cell_type": "markdown",
      "source": [
        "Identify who are the applicants of the DAO"
      ],
      "metadata": {
        "id": "bivhT5VwQswX"
      }
    },
    {
      "cell_type": "code",
      "source": [
        "applicants_ = df['applicant'].unique()\n",
        "applicants_"
      ],
      "metadata": {
        "colab": {
          "base_uri": "https://localhost:8080/"
        },
        "id": "nMbNPrimPvjd",
        "outputId": "7325d4d5-55db-4fce-8898-51a8b30e24b5"
      },
      "execution_count": 85,
      "outputs": [
        {
          "output_type": "execute_result",
          "data": {
            "text/plain": [
              "array(['0x2352af873619fe65967568884e460574a0d8dc67',\n",
              "       '0xc7302570d2d3baf6d278f2f28802f4241a23ca0c',\n",
              "       '0xd0f3938a7a8780291dfece16bf1c9bb091203edc',\n",
              "       '0x0000000000000000000000000000000000000000',\n",
              "       '0x826dc4625ca67c6c3436b21f468ca3d66a13b010',\n",
              "       '0x38e98dc65453336788b8e3789ba766f9eb9460e6',\n",
              "       '0x1ff8aafe0972b63fb706ac8f321cc933b09d4ec7',\n",
              "       '0x82e47aefeecb77e55eeed7cf6300f61dbbf366a8',\n",
              "       '0x58b543cc037743dec8b74b04293fc3e9eb2675e6',\n",
              "       '0x020744ec3aae6b6806c25f1abb346a9b77f4eeaf',\n",
              "       '0xe3a0ad18e7d7dc45c2fc70f42b918234295f1b02',\n",
              "       '0x52ee4dea3abe696782ff89411c840cc4a84612d5',\n",
              "       '0x5c4e3de7c408f9a45592efaa2829d04dd88a3f72',\n",
              "       '0xe53085d26544daf3ba8f66b2d1b108e285cc51f9',\n",
              "       '0x1c0aa8ccd568d90d61659f060d1bfb1e6f855a20',\n",
              "       '0x6c13fc8ef50144a21702415d57ece0a09879fcfb',\n",
              "       '0xb434a715ceee1db1d7409f4aa6775717fe229bf9',\n",
              "       '0xfe96d1ed2a4c9e60e0e3030609af0361a515169e',\n",
              "       '0xaefcd0f8a1cbd231cecaa9bfd9ffb82a6eaaa462',\n",
              "       '0x36de990133d36d7e3df9a820aa3ede5a2320de71'], dtype=object)"
            ]
          },
          "metadata": {},
          "execution_count": 85
        }
      ]
    },
    {
      "cell_type": "code",
      "source": [
        "len(applicants_)"
      ],
      "metadata": {
        "colab": {
          "base_uri": "https://localhost:8080/"
        },
        "id": "NFiLNz3bUSX4",
        "outputId": "3318749a-e757-42f3-c8ee-b367f2300390"
      },
      "execution_count": 86,
      "outputs": [
        {
          "output_type": "execute_result",
          "data": {
            "text/plain": [
              "20"
            ]
          },
          "metadata": {},
          "execution_count": 86
        }
      ]
    },
    {
      "cell_type": "markdown",
      "source": [
        "Lets query their balance in Ethereum "
      ],
      "metadata": {
        "id": "uqJhjcwhQy4Y"
      }
    },
    {
      "cell_type": "code",
      "source": [
        "!pip install web3==5.23.1\n"
      ],
      "metadata": {
        "id": "zjBCrTk7932o"
      },
      "execution_count": null,
      "outputs": []
    },
    {
      "cell_type": "code",
      "source": [
        "from web3 import Web3, HTTPProvider\n",
        "from eth_abi import decode_abi\n",
        "from eth_utils import encode_hex, function_signature_to_4byte_selector\n",
        "\n",
        "\n",
        "#@title DaoDashBoard\n",
        "#@markdown <p align=\"left\"><img src=\"https://bafybeierzl3pccswpdlzzvgirqa5fujkxja3xoaplgnt7ley2nadbghjsi.ipfs.dweb.link/DAOHack.png\" width: 100% width= '80' alt=\"DAO Hacks\"</p> \n",
        "#0x87430F10FAD9b9Cb84056A37F836d8a804204303\n",
        "provider = \"Ethereum\" #@param [\"Ethereum\", \"Ropsten\", \"Rinkeby\"]\n",
        "print('You selected', provider)\n",
        "providerURL= 'https://ropsten.infura.io/v3/9aa3d95b3bc440fa88ea12eaa4456161' #@param {type: \"string\"}\n",
        "\n",
        "w3=Web3(HTTPProvider(endpoint_uri=providerURL))\n",
        "connected = w3.isConnected()\n",
        "query_block= w3.eth.get_block('latest')\n",
        "query_block\n",
        "\n",
        "#@markdown ****"
      ],
      "metadata": {
        "id": "QJmcKcABAN1g",
        "colab": {
          "base_uri": "https://localhost:8080/"
        },
        "outputId": "36536ced-945e-4538-cb9e-65c23b2fafab"
      },
      "execution_count": 88,
      "outputs": [
        {
          "output_type": "stream",
          "name": "stdout",
          "text": [
            "You selected Ethereum\n"
          ]
        },
        {
          "output_type": "execute_result",
          "data": {
            "text/plain": [
              "AttributeDict({'baseFeePerGas': 10,\n",
              " 'difficulty': 6535202384,\n",
              " 'extraData': HexBytes('0xd683010a11846765746886676f312e3138856c696e7578'),\n",
              " 'gasLimit': 8000000,\n",
              " 'gasUsed': 994167,\n",
              " 'hash': HexBytes('0xcc4eec48c1a9f08abc755d46aa5d76228d5a1d9a3a6a80af16ecf00ff937796b'),\n",
              " 'logsBloom': HexBytes('0x00000000000000001000000000010000000000000000400000000000000000000000000000000000000000000000000080000000000000000000008000000000000000000000000001001400000000000000060000000000000000000000000000010000000000008000000000100000000000004000000000000000100000001000000000000000000000000000002000000000000000080000000000000000000000800000000080000000000000000040040000000000001000000000180010000000000000040000000000000800000000000000000000000201080000000000000000000000008000000000002000000000000000000000000000000000'),\n",
              " 'miner': '0x9a45D8edf1E2C0fC08F2cC1f3D99EffbcCe82B76',\n",
              " 'mixHash': HexBytes('0xd1b352bc4da8793fd4c50b25f15a2a09cca3b8c57bff157b168c3d3b32cec14a'),\n",
              " 'nonce': HexBytes('0x583bd6f14c8a45ef'),\n",
              " 'number': 12176414,\n",
              " 'parentHash': HexBytes('0x36f0d47e13bac205d76e6ce5b0f0ba75722580e1fd304562824251f6154ca971'),\n",
              " 'receiptsRoot': HexBytes('0x3e132fa5569454ee1f7b563526868f101ddbbda69948f63171791834da984ef7'),\n",
              " 'sha3Uncles': HexBytes('0x1dcc4de8dec75d7aab85b567b6ccd41ad312451b948a7413f0a142fd40d49347'),\n",
              " 'size': 5277,\n",
              " 'stateRoot': HexBytes('0x9ebe188d1354d6c3ba39729647cad9e22ee7ffc9bfbaa4f4bf327e787bd84a66'),\n",
              " 'timestamp': 1649466257,\n",
              " 'totalDifficulty': 41118487128232547,\n",
              " 'transactions': [HexBytes('0x6ea0ce7f2332cc6ae1a963a741c8768cf4746c1cfd90ef40d530ef87dc74d0d8'),\n",
              "  HexBytes('0x011493977119a72a2d168d1ce5efdf9a30dfa3ed43aa62a6a9878a23cc8f4143'),\n",
              "  HexBytes('0x8892e9ae02b4de88ce597b6af2c204c3641d341cf1694e60421067d30ddfecb9'),\n",
              "  HexBytes('0x7d30b2ab4de7dc203f2c5fa46dc5288f226966a252058bbd46313adf79377ed5'),\n",
              "  HexBytes('0x9cb0bd1bb4babe72549e332d6a3a2796ac9c61e58689aa8fab8c5513fa605810'),\n",
              "  HexBytes('0x5af01dcda5ebb07dc60b26298c74943c9dca554b9641c7b8da1d84397e033807'),\n",
              "  HexBytes('0xade2a7e88985f968410528cc9c36a0fe2619545f2ab37f16752ccc45b43d5716'),\n",
              "  HexBytes('0x2640fb63433c1b3a6c91e9d00763ba09742013b74a6f2a9d5a1bd2809c7a8d06'),\n",
              "  HexBytes('0x2d3296f4772f53e1b6534908db8adb5ca84d535a15a2a45dd9a2e76ae067017b'),\n",
              "  HexBytes('0x0924540bb76f4093fd5f372748132445b0f1183b4641f0c5d0ec795d50737a7b'),\n",
              "  HexBytes('0xb5c9ac6c82ea6256e15130ed8221e38b77b94f1b9a877cc39fe84d66088873bc'),\n",
              "  HexBytes('0x2ec4be2d04fe1bad2e8bd94ed6196166f4bcec390989557056355ce7911493e6')],\n",
              " 'transactionsRoot': HexBytes('0x8e0673fa74bd26d6e782a57c774dc511c3f47b83c4b068c867822249d97f5f7b'),\n",
              " 'uncles': []})"
            ]
          },
          "metadata": {},
          "execution_count": 88
        }
      ]
    },
    {
      "cell_type": "code",
      "source": [
        "#account = '0x87430F10FAD9b9Cb84056A37F836d8a804204303'\n",
        "account = '0x87430F10FAD9b9Cb84056A37F836d8a804204303'  #@param {type: \"string\"}\n",
        "balance = w3.eth.get_balance(account)\n",
        "balance_ether = w3.fromWei(balance, 'ether')\n",
        "print('Balance: ')\n",
        "balance_ether"
      ],
      "metadata": {
        "id": "Vhu1HQ-UJ8a5",
        "colab": {
          "base_uri": "https://localhost:8080/"
        },
        "outputId": "b6af25a7-4828-4af1-bdf4-a97eb515b7e5"
      },
      "execution_count": 89,
      "outputs": [
        {
          "output_type": "stream",
          "name": "stdout",
          "text": [
            "Balance: \n"
          ]
        },
        {
          "output_type": "execute_result",
          "data": {
            "text/plain": [
              "Decimal('16.36523197678313387')"
            ]
          },
          "metadata": {},
          "execution_count": 89
        }
      ]
    },
    {
      "cell_type": "markdown",
      "source": [
        "# IPFS\n",
        "\n",
        "IPFS complete integration and DashBoard\n"
      ],
      "metadata": {
        "id": "JoedztOTl1Vr"
      }
    },
    {
      "cell_type": "code",
      "source": [
        "import requests\n",
        "import json\n",
        "import csv  \n",
        "\n",
        "#Open the cvs and write to IPFS \n",
        "#as an example just the fileName\n",
        "with open('file.cvs', 'w') as f:\n",
        "  print(f.name)\n",
        "  files = {\n",
        "    'fileOne': (f.name),\n",
        "  }\n",
        "\n",
        "response = requests.post('https://ipfs.infura.io:5001/api/v0/add', files=files)\n",
        "p = response.json()\n",
        "hash = p['Hash']\n",
        "print(hash)"
      ],
      "metadata": {
        "colab": {
          "base_uri": "https://localhost:8080/"
        },
        "id": "W6x-oOWf00Wt",
        "outputId": "60ca0211-1d0f-4f9d-9bb0-294ffdcb9aaf"
      },
      "execution_count": 90,
      "outputs": [
        {
          "output_type": "stream",
          "name": "stdout",
          "text": [
            "file.cvs\n",
            "QmTdQHZZVEaCpShMr74Wd1yEbGVU9DWbKWjuCSBX7EAmx1\n"
          ]
        }
      ]
    },
    {
      "cell_type": "code",
      "source": [
        "# retreive\n",
        "params = (\n",
        "    ('arg', hash),\n",
        ")\n",
        "response_two = requests.post('https://ipfs.infura.io:5001/api/v0/block/get', params=params)\n",
        "print(response_two.text)"
      ],
      "metadata": {
        "colab": {
          "base_uri": "https://localhost:8080/"
        },
        "id": "hwWPcnoA08Ny",
        "outputId": "c62b1935-be93-49e8-9ca8-5dd9c64fb66c"
      },
      "execution_count": 91,
      "outputs": [
        {
          "output_type": "stream",
          "name": "stdout",
          "text": [
            "\n",
            "\u000e\b\u0002\u0012\bfile.cvs\u0018\b\n"
          ]
        }
      ]
    },
    {
      "cell_type": "markdown",
      "source": [
        "# GraphQL"
      ],
      "metadata": {
        "id": "Uqiu4VeDT_gw"
      }
    },
    {
      "cell_type": "code",
      "source": [
        "!pip install gql\n"
      ],
      "metadata": {
        "id": "ewLsxEeEacmQ"
      },
      "execution_count": null,
      "outputs": []
    },
    {
      "cell_type": "code",
      "source": [
        "import csv\n",
        "import json\n",
        "import os\n",
        "import pprint\n",
        "\n",
        "import pandas as pd\n",
        "import requests"
      ],
      "metadata": {
        "id": "OEBWCjzq3fDG"
      },
      "execution_count": 94,
      "outputs": []
    },
    {
      "cell_type": "markdown",
      "source": [
        "Last Issues Submited by in the GITHub Repo DAO"
      ],
      "metadata": {
        "id": "GZ3f1b70gwAM"
      }
    },
    {
      "cell_type": "code",
      "source": [
        "\n",
        "\n",
        "# get api token and set authorization\n",
        "\n",
        "headers = {'Authorization': f'token {api_token}'}\n",
        "# set url to a graphql endpoint\n",
        "url = 'https://api.github.com/graphql' \n",
        "\n",
        "organization = 'lexDAO'  #@param {type: \"string\"}\n",
        "author = 'LexCorpus' #@param {type: \"string\"}\n",
        "# add a json query\n",
        "query = \"\"\"\n",
        "{\n",
        "  organization(login: \"lexDAO\") {\n",
        "    name\n",
        "    repository(name: \"LexCorpus\") {\n",
        "        name\n",
        "        issues(last: 5) {\n",
        "          edges {\n",
        "            node {\n",
        "              number\n",
        "              title\n",
        "            }\n",
        "          }\n",
        "        }\n",
        "    }\n",
        "  }\n",
        "}\n",
        "\"\"\"\n"
      ],
      "metadata": {
        "id": "kOMazQNocxVa"
      },
      "execution_count": 95,
      "outputs": []
    },
    {
      "cell_type": "code",
      "source": [
        "# submit the request\n",
        "r = requests.post(url=url, json={'query': query}, headers=headers)\n",
        "\n",
        "binderhub = r.json()\n",
        "binderhub\n",
        "issue_list = binderhub['data']['organization']['repository']['issues']['edges']\n",
        "issue_list\n",
        "print(f\"{binderhub['data']['organization']['repository']['name']}: last five issues submitted\")\n",
        "for issue in issue_list:\n",
        "    print(f\"{issue['node']['number']:6}  {issue['node']['title']:30}\")\n"
      ],
      "metadata": {
        "colab": {
          "base_uri": "https://localhost:8080/"
        },
        "id": "xHx60Jfs3cc6",
        "outputId": "422cd4ff-ead9-4645-bae8-60ccf3d5b55e"
      },
      "execution_count": 96,
      "outputs": [
        {
          "output_type": "stream",
          "name": "stdout",
          "text": [
            "LexCorpus: last five issues submitted\n",
            "    38  adapt license?                \n",
            "    43  WY Form of Operating Agreement\n",
            "    52  EIP-173: Contract Ownership Standard \n",
            "    58  Nevada Operating Agreement    \n",
            "    59  Add Grimoire template         \n"
          ]
        }
      ]
    }
  ]
}